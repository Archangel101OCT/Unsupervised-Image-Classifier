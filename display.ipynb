{
 "cells": [
  {
   "cell_type": "code",
   "execution_count": 1,
   "metadata": {},
   "outputs": [],
   "source": [
    "import numpy as np\n",
    "import pandas as pd\n",
    "import matplotlib.pyplot as plt\n",
    "import seaborn as sns\n",
    "sns.set()\n",
    "plt.rcParams[\"axes.grid\"] = False\n",
    "from sklearn.metrics.pairwise import cosine_similarity"
   ]
  },
  {
   "cell_type": "code",
   "execution_count": 6,
   "metadata": {},
   "outputs": [],
   "source": [
    "def get_matching(encoder_output,img_resized):\n",
    "    img_size=160\n",
    "    print('Input an image id which you want to find similar images of')\n",
    "    print('Note image id are from 0 to 4737')\n",
    "    print('Enter -1 to quit')\n",
    "    n=int(input())\n",
    "    while(n>=0 & n<=4737):\n",
    "        plt.show()\n",
    "        enc=np.array(encoder_output).reshape(encoder_output.shape[0],encoder_output.shape[1])\n",
    "        ref=[]\n",
    "        for i in range(len(enc)):\n",
    "            temp=enc[i].reshape(150,1).T\n",
    "            ref.append(temp)\n",
    "\n",
    "        dist={}\n",
    "        for i in range(len(ref)):\n",
    "            if(i!=n):\n",
    "                kk=cosine_similarity(ref[n],ref[i])  #Using cosine similarity to get nearest images\n",
    "                dist[i]=kk\n",
    "        dist = sorted(dist.items(), key=lambda x: x[1], reverse=True)\n",
    "\n",
    "        idex=dist\n",
    "        no_of_channels=3\n",
    "\n",
    "        plt.imshow(img_resized[n].reshape(img_size,img_size,no_of_channels),cmap='gray')\n",
    "\n",
    "        fig, axes = plt.subplots(3, 3,figsize=(15,15))\n",
    "        axes[0,0].imshow(img_resized[idex[0][0]].reshape(img_size,img_size,no_of_channels),cmap='gray')\n",
    "        #ax1.set_title('Orignal')\n",
    "        axes[0,1].imshow(img_resized[idex[1][0]].reshape(img_size,img_size,no_of_channels),cmap='gray')\n",
    "        #ax2.set_title('PREDICTED')\n",
    "        axes[0,2].imshow(img_resized[idex[2][0]].reshape(img_size,img_size,no_of_channels),cmap='gray')    \n",
    "\n",
    "        axes[1,0].imshow(img_resized[idex[3][0]].reshape(img_size,img_size,no_of_channels),cmap='gray')\n",
    "        axes[1,1].imshow(img_resized[idex[4][0]].reshape(img_size,img_size,no_of_channels),cmap='gray')\n",
    "        axes[1,2].imshow(img_resized[idex[5][0]].reshape(img_size,img_size,no_of_channels),cmap='gray')\n",
    "\n",
    "        axes[2,0].imshow(img_resized[idex[6][0]].reshape(img_size,img_size,no_of_channels),cmap='gray')\n",
    "        axes[2,1].imshow(img_resized[idex[7][0]].reshape(img_size,img_size,no_of_channels),cmap='gray')\n",
    "        axes[2,2].imshow(img_resized[idex[8][0]].reshape(img_size,img_size,no_of_channels),cmap='gray')\n",
    "        plt.show()\n",
    "        n=int(input())"
   ]
  }
 ],
 "metadata": {
  "kernelspec": {
   "display_name": "Python 3",
   "language": "python",
   "name": "python3"
  },
  "language_info": {
   "codemirror_mode": {
    "name": "ipython",
    "version": 3
   },
   "file_extension": ".py",
   "mimetype": "text/x-python",
   "name": "python",
   "nbconvert_exporter": "python",
   "pygments_lexer": "ipython3",
   "version": "3.7.0"
  }
 },
 "nbformat": 4,
 "nbformat_minor": 2
}
