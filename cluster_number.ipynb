{
 "cells": [
  {
   "cell_type": "code",
   "execution_count": 1,
   "metadata": {},
   "outputs": [],
   "source": [
    "import numpy as np\n",
    "import pandas as pd\n",
    "import matplotlib.pyplot as plt\n",
    "import seaborn as sns\n",
    "from sklearn.cluster import KMeans \n",
    "from sklearn import metrics \n",
    "from scipy.spatial.distance import cdist \n",
    "sns.set()\n",
    "plt.rcParams[\"axes.grid\"] = False\n",
    "from sklearn.cluster import KMeans"
   ]
  },
  {
   "cell_type": "code",
   "execution_count": 1,
   "metadata": {},
   "outputs": [],
   "source": [
    "def get_number_of_clusters(encoder_output): #Elbow method to determine the number of clusters\n",
    "    distortions = [] \n",
    "    inertias = [] \n",
    "    mapping1 = {} \n",
    "    mapping2 = {} \n",
    "    K = range(1,20) \n",
    "\n",
    "    for k in K:\n",
    "        print(k,end=' ')\n",
    "        #Building and fitting the model \n",
    "        kmeanModel = KMeans(n_clusters=k).fit(encoder_output) \n",
    "        kmeanModel.fit(encoder_output)     \n",
    "\n",
    "        distortions.append(sum(np.min(cdist(encoder_output, kmeanModel.cluster_centers_, \n",
    "                          'euclidean'),axis=1)) / encoder_output.shape[0]) \n",
    "        inertias.append(kmeanModel.inertia_) \n",
    "\n",
    "        mapping1[k] = sum(np.min(cdist(encoder_output, kmeanModel.cluster_centers_, \n",
    "                     'euclidean'),axis=1)) / encoder_output.shape[0] \n",
    "        mapping2[k] = kmeanModel.inertia_ \n",
    "\n",
    "\n",
    "    plt.plot(K, distortions, 'bx-') \n",
    "    plt.xlabel('Values of K') \n",
    "    plt.ylabel('Distortion') \n",
    "    plt.title('The Elbow Method using Distortion') \n",
    "    plt.show() \n",
    "    plt.plot(K, inertias, 'bx-') \n",
    "    plt.xlabel('Values of K') \n",
    "    plt.ylabel('Inertia') \n",
    "    plt.title('The Elbow Method using Inertia') \n",
    "    plt.show()"
   ]
  }
 ],
 "metadata": {
  "kernelspec": {
   "display_name": "Python 3",
   "language": "python",
   "name": "python3"
  },
  "language_info": {
   "codemirror_mode": {
    "name": "ipython",
    "version": 3
   },
   "file_extension": ".py",
   "mimetype": "text/x-python",
   "name": "python",
   "nbconvert_exporter": "python",
   "pygments_lexer": "ipython3",
   "version": "3.7.0"
  }
 },
 "nbformat": 4,
 "nbformat_minor": 2
}
