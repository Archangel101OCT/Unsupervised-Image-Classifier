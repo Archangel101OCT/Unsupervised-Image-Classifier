{
 "cells": [
  {
   "cell_type": "code",
   "execution_count": 13,
   "metadata": {},
   "outputs": [],
   "source": [
    "import numpy as np\n",
    "import keras\n",
    "import keras.backend as K\n",
    "from keras.models import Model, Sequential,load_model\n",
    "from keras.layers import BatchNormalization,Dropout,MaxPooling2D,UpSampling2D,Dense,Input,Conv2D,Activation,Flatten,Conv2DTranspose,Lambda,Reshape,Layer,InputSpec"
   ]
  },
  {
   "cell_type": "code",
   "execution_count": 3,
   "metadata": {},
   "outputs": [],
   "source": [
    "def autoencoderConv2D_2(img_shape=(160, 160, 3)):\n",
    "\n",
    "    input_img = Input(shape=img_shape)\n",
    "    # Encoder\n",
    "    x = Conv2D(32, (3, 3), activation='relu', padding='same')(input_img)\n",
    "    x=MaxPooling2D((2,2))(x)\n",
    "    x = Conv2D(16, (3, 3), activation='relu', padding='same')(x)\n",
    "    x=MaxPooling2D((2,2))(x)\n",
    "    x = Conv2D(8, (3, 3), activation='relu', padding='same')(x)\n",
    "    x=MaxPooling2D((2,2))(x)\n",
    "    \n",
    "\n",
    "    \n",
    "    shape_before_flattening = K.int_shape(x)\n",
    "    x = Flatten()(x)\n",
    "    encoded=Dense(150,activation='relu')(x)           #Coded layer\n",
    "    x=BatchNormalization()(encoded)\n",
    "    \n",
    "    \n",
    "    # Decoder\n",
    "    # Reshape into an image of the same shape as before our last `Flatten` layer\n",
    "    x=Dense(np.product(shape_before_flattening[1:]),activation='relu')(x)\n",
    "    x=BatchNormalization()(x)\n",
    "    x = Reshape(shape_before_flattening[1:])(x)\n",
    "    x = Conv2D(8, (3, 3), activation='relu', padding='same')(x)\n",
    "    x = UpSampling2D((2, 2))(x)\n",
    "    x = Conv2D(16, (3, 3), activation='relu', padding='same')(x)\n",
    "    x = UpSampling2D((2, 2))(x)\n",
    "    x = Conv2D(32, (3, 3), activation='relu',padding='same')(x)\n",
    "    x = UpSampling2D((2, 2))(x)\n",
    "    decoded = Conv2D(3, (3, 3), activation='sigmoid', padding='same')(x)\n",
    "\n",
    "    return Model(inputs=input_img, outputs=decoded, name='AE'), Model(inputs=input_img, outputs=encoded, name='encoder')"
   ]
  },
  {
   "cell_type": "code",
   "execution_count": 5,
   "metadata": {},
   "outputs": [],
   "source": [
    "def get_models():\n",
    "    autoencoder,encoder=autoencoderConv2D_2()\n",
    "    autoencoder.compile(optimizer='adam', loss='binary_crossentropy',metrics=['accuracy'])\n",
    "    return autoencoder,encoder"
   ]
  }
 ],
 "metadata": {
  "kernelspec": {
   "display_name": "Python 3",
   "language": "python",
   "name": "python3"
  },
  "language_info": {
   "codemirror_mode": {
    "name": "ipython",
    "version": 3
   },
   "file_extension": ".py",
   "mimetype": "text/x-python",
   "name": "python",
   "nbconvert_exporter": "python",
   "pygments_lexer": "ipython3",
   "version": "3.7.0"
  }
 },
 "nbformat": 4,
 "nbformat_minor": 2
}
