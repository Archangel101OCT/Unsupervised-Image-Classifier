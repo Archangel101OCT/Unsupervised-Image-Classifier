{
 "cells": [
  {
   "cell_type": "code",
   "execution_count": 2,
   "metadata": {},
   "outputs": [],
   "source": [
    "import numpy as np\n",
    "import pandas as pd\n",
    "import cv2\n",
    "import os,random\n",
    "import pickle"
   ]
  },
  {
   "cell_type": "code",
   "execution_count": 29,
   "metadata": {},
   "outputs": [],
   "source": [
    "def get_data_raw():\n",
    "    path='dataset/'\n",
    "    kt=os.listdir(path)\n",
    "    for i in range(len(kt)): \n",
    "        kt[i]=int(kt[i][:-4])\n",
    "    kt.sort()                 #kt consists of the names of the images as given in the dataset folder in an ascending order\n",
    "    for i in range(len(kt)):\n",
    "        kt[i]=str(kt[i])+'.jpg'\n",
    "    images_master=[]\n",
    "    for imdr in kt:\n",
    "        image=cv2.imread(os.path.join(path,imdr))\n",
    "        image = cv2.cvtColor(image, cv2.COLOR_BGR2RGB)\n",
    "        images_master.append(image)\n",
    "    return images_master"
   ]
  },
  {
   "cell_type": "code",
   "execution_count": 4,
   "metadata": {},
   "outputs": [],
   "source": [
    "def get_data_resized(images_master):\n",
    "    images_temp=images_master.copy()\n",
    "    img_size=160\n",
    "    img_resized=[]\n",
    "    for img in images_temp:\n",
    "        img=img.astype('float32')/255\n",
    "        img=cv2.resize(img,(img_size,img_size))\n",
    "        img_resized.append(img)\n",
    "    img_resized=np.asarray(img_resized)\n",
    "    #img_resized=np.array(img_resized).reshape(-1,img_size,img_size,3)\n",
    "    return img_resized"
   ]
  },
  {
   "cell_type": "code",
   "execution_count": 39,
   "metadata": {},
   "outputs": [],
   "source": [
    "def save_it(img_resized):\n",
    "    with open('img_resized.pkl','wb') as f:\n",
    "        pickle.dump(img_resized, f)"
   ]
  }
 ],
 "metadata": {
  "kernelspec": {
   "display_name": "Python 3",
   "language": "python",
   "name": "python3"
  },
  "language_info": {
   "codemirror_mode": {
    "name": "ipython",
    "version": 3
   },
   "file_extension": ".py",
   "mimetype": "text/x-python",
   "name": "python",
   "nbconvert_exporter": "python",
   "pygments_lexer": "ipython3",
   "version": "3.7.0"
  }
 },
 "nbformat": 4,
 "nbformat_minor": 2
}
